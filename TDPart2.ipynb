{
 "cells": [
  {
   "cell_type": "code",
   "execution_count": 1,
   "id": "casual-bathroom",
   "metadata": {},
   "outputs": [],
   "source": [
    "import pandas as pd\n",
    "import numpy as np"
   ]
  },
  {
   "cell_type": "code",
   "execution_count": 2,
   "id": "amino-immunology",
   "metadata": {},
   "outputs": [],
   "source": [
    "def find(df,column,what,view=[], groupby=\"\", sort=\"\"):\n",
    "    \"\"\"\n",
    "        trouve une valeur dans le tableau en fonction de la colonne\n",
    "        \n",
    "        groupby : mean, sum, first, last, size\n",
    "        sort : ascending, descending\n",
    "    \"\"\"\n",
    "    tmp = df[df[column].isin(what)]\n",
    "    \n",
    "    if groupby==\"mean\":\n",
    "        tmp = tmp.groupby([column]).mean()\n",
    "    elif groupby==\"sum\":\n",
    "        tmp = tmp.groupby([column]).sum()\n",
    "    elif  groupby==\"first\":\n",
    "        tmp = tmp.groupby([column]).first()\n",
    "    elif  groupby==\"last\":\n",
    "        tmp = tmp.groupby([column]).last()\n",
    "    elif  groupby==\"size\":\n",
    "        tmp = tmp.groupby([column]).size()\n",
    "        if view != []:\n",
    "            print('\\033[93m' + \"GROUPBY Warn:\"+ '\\033[95m' +\" pas de VIEW disponible avec l'option size\")\n",
    "            view = []\n",
    "    \n",
    "    if sort != \"\" and groupby != \"\":\n",
    "        print('\\033[93m' + \"SORT Warn:\"+ '\\033[95m' +\" inutile de trier les objets groupé\")\n",
    "        sort=\"\"\n",
    "    \n",
    "    if sort==\"ascending\":\n",
    "        tmp = tmp.sort_values(by=column, ascending=True)\n",
    "    elif sort==\"descending\":\n",
    "        tmp = tmp.sort_values(by=column, ascending=False)\n",
    "            \n",
    "    if view != [] :\n",
    "       return tmp.loc[:,view]\n",
    "    return tmp"
   ]
  },
  {
   "cell_type": "code",
   "execution_count": 3,
   "id": "simplified-importance",
   "metadata": {},
   "outputs": [],
   "source": [
    "def rangeValue(df,column,plage,view=[], groupby=\"first\"):\n",
    "    \"\"\"\n",
    "        regroupe les valeur celon une plage\n",
    "        \n",
    "        groupby : mean, sum, first, last, size \n",
    "            default -> first\n",
    "    \"\"\"\n",
    "    tmp = df.groupby(pd.cut(csv[column], plage))\n",
    "    \n",
    "    if groupby==\"mean\":\n",
    "        tmp = tmp.mean()\n",
    "    elif groupby==\"sum\":\n",
    "        tmp = tmp.sum()\n",
    "    elif  groupby==\"first\":\n",
    "        tmp = tmp.first()\n",
    "    elif  groupby==\"last\":\n",
    "        tmp = tmp.last()\n",
    "    elif  groupby==\"size\":\n",
    "        tmp = tmp.size()\n",
    "        if view != []:\n",
    "            print('\\033[93m' + \"GROUPBY Warn:\"+ '\\033[95m' +\" pas de View disponible avec l'option size\")\n",
    "            view = []\n",
    "            \n",
    "    if view != [] :\n",
    "       return tmp.loc[:,view]\n",
    "    return tmp"
   ]
  },
  {
   "cell_type": "code",
   "execution_count": 7,
   "id": "defensive-sheep",
   "metadata": {},
   "outputs": [
    {
     "data": {
      "text/plain": [
       "[0, 1, 2, 3, 4]"
      ]
     },
     "execution_count": 7,
     "metadata": {},
     "output_type": "execute_result"
    }
   ],
   "source": [
    "list(range(0,5))"
   ]
  },
  {
   "cell_type": "code",
   "execution_count": 58,
   "id": "senior-momentum",
   "metadata": {},
   "outputs": [],
   "source": [
    "def changeValue(df, columns, origin, new, condition=[]):\n",
    "    \"\"\"\n",
    "    change la ou les valeurs donnée dans origin par new dans le tableau \n",
    "    \n",
    "    condition (str, object): assigne la valeur new si la condition est respecteer sinon elle garde la valeurs de  base\n",
    "        origin ne sera pas pris en compte, il peut etre initialisé a \"\"\n",
    "    condition (\"around\", int) : aroundi la valeur selon les colonnes selectionné, int correspond du nombre de chiffre apres la virgule\n",
    "    \"\"\"\n",
    "    for i in range(len(columns)):\n",
    "        if condition != () and len(condition) == 2:\n",
    "            mode, form = condition\n",
    "            if mode == \">\":\n",
    "                df[columns[i]] = df[columns[i]].apply(lambda x: new if x > form else x)\n",
    "            elif mode == \"<\":\n",
    "                df[columns[i]] = df[columns[i]].apply(lambda x: new if x < form else x)\n",
    "            elif mode == \"!=\":\n",
    "                df[columns[i]] = df[columns[i]].apply(lambda x: new if x != form else x)\n",
    "            elif mode == \"==\":\n",
    "                df[columns[i]] = df[columns[i]].apply(lambda x: new if x == form else x)\n",
    "            elif mode == \"<=\":\n",
    "                df[columns[i]] = df[columns[i]].apply(lambda x: new if x <= form else x)\n",
    "            elif mode == \">=\":\n",
    "                df[columns[i]] = df[columns[i]].apply(lambda x: new if x >= form else x)\n",
    "            elif mode == \"around\":\n",
    "                df[columns[i]] = df[columns[i]].apply(lambda x: round(x, form) if type(x) is float else x)\n",
    "        else:\n",
    "            df[columns[i]] = df[columns[i]].apply(lambda x: new if x == origin else x)\n",
    "                "
   ]
  },
  {
   "cell_type": "code",
   "execution_count": 56,
   "id": "committed-tuesday",
   "metadata": {},
   "outputs": [],
   "source": [
    "csv = pd.read_csv('mower_market_snapshot.csv',delimiter=\";\")"
   ]
  },
  {
   "cell_type": "code",
   "execution_count": 10,
   "id": "continuous-exhaust",
   "metadata": {},
   "outputs": [
    {
     "name": "stdout",
     "output_type": "stream",
     "text": [
      "\u001b[93mGROUPBY Warn:\u001b[95m pas de VIEW disponible avec l'option size\n",
      "\u001b[93mSORT Warn:\u001b[95m inutile de trier les objets groupé\n"
     ]
    },
    {
     "data": {
      "text/plain": [
       "warranty\n",
       "2ans    42\n",
       "3ans    17\n",
       "dtype: int64"
      ]
     },
     "execution_count": 10,
     "metadata": {},
     "output_type": "execute_result"
    }
   ],
   "source": [
    "find(csv,\"warranty\", [\"3ans\", \"2ans\"], view=[\"id\"], groupby=\"size\", sort=\"ascending\")"
   ]
  },
  {
   "cell_type": "code",
   "execution_count": 11,
   "id": "comfortable-avenue",
   "metadata": {},
   "outputs": [
    {
     "data": {
      "text/html": [
       "<div>\n",
       "<style scoped>\n",
       "    .dataframe tbody tr th:only-of-type {\n",
       "        vertical-align: middle;\n",
       "    }\n",
       "\n",
       "    .dataframe tbody tr th {\n",
       "        vertical-align: top;\n",
       "    }\n",
       "\n",
       "    .dataframe thead th {\n",
       "        text-align: right;\n",
       "    }\n",
       "</style>\n",
       "<table border=\"1\" class=\"dataframe\">\n",
       "  <thead>\n",
       "    <tr style=\"text-align: right;\">\n",
       "      <th></th>\n",
       "      <th>capacity</th>\n",
       "      <th>failure_rate</th>\n",
       "      <th>id</th>\n",
       "      <th>margin</th>\n",
       "      <th>price</th>\n",
       "      <th>market_share</th>\n",
       "      <th>attractiveness</th>\n",
       "    </tr>\n",
       "    <tr>\n",
       "      <th>price</th>\n",
       "      <th></th>\n",
       "      <th></th>\n",
       "      <th></th>\n",
       "      <th></th>\n",
       "      <th></th>\n",
       "      <th></th>\n",
       "      <th></th>\n",
       "    </tr>\n",
       "  </thead>\n",
       "  <tbody>\n",
       "    <tr>\n",
       "      <th>(0.0, 200.0]</th>\n",
       "      <td>56.933206</td>\n",
       "      <td>0.220407</td>\n",
       "      <td>18948.346863</td>\n",
       "      <td>67.479837</td>\n",
       "      <td>74.193945</td>\n",
       "      <td>0.001225</td>\n",
       "      <td>0.626233</td>\n",
       "    </tr>\n",
       "    <tr>\n",
       "      <th>(200.0, 300.0]</th>\n",
       "      <td>NaN</td>\n",
       "      <td>NaN</td>\n",
       "      <td>NaN</td>\n",
       "      <td>NaN</td>\n",
       "      <td>NaN</td>\n",
       "      <td>NaN</td>\n",
       "      <td>NaN</td>\n",
       "    </tr>\n",
       "    <tr>\n",
       "      <th>(300.0, 600.0]</th>\n",
       "      <td>38.632563</td>\n",
       "      <td>0.100551</td>\n",
       "      <td>18964.875300</td>\n",
       "      <td>263.736848</td>\n",
       "      <td>381.476375</td>\n",
       "      <td>0.002431</td>\n",
       "      <td>0.632159</td>\n",
       "    </tr>\n",
       "    <tr>\n",
       "      <th>(600.0, inf]</th>\n",
       "      <td>25.351682</td>\n",
       "      <td>0.069466</td>\n",
       "      <td>18987.473373</td>\n",
       "      <td>566.520813</td>\n",
       "      <td>854.732719</td>\n",
       "      <td>0.005862</td>\n",
       "      <td>0.696661</td>\n",
       "    </tr>\n",
       "  </tbody>\n",
       "</table>\n",
       "</div>"
      ],
      "text/plain": [
       "                 capacity  failure_rate            id      margin       price  \\\n",
       "price                                                                           \n",
       "(0.0, 200.0]    56.933206      0.220407  18948.346863   67.479837   74.193945   \n",
       "(200.0, 300.0]        NaN           NaN           NaN         NaN         NaN   \n",
       "(300.0, 600.0]  38.632563      0.100551  18964.875300  263.736848  381.476375   \n",
       "(600.0, inf]    25.351682      0.069466  18987.473373  566.520813  854.732719   \n",
       "\n",
       "                market_share  attractiveness  \n",
       "price                                         \n",
       "(0.0, 200.0]        0.001225        0.626233  \n",
       "(200.0, 300.0]           NaN             NaN  \n",
       "(300.0, 600.0]      0.002431        0.632159  \n",
       "(600.0, inf]        0.005862        0.696661  "
      ]
     },
     "execution_count": 11,
     "metadata": {},
     "output_type": "execute_result"
    }
   ],
   "source": [
    "rangeValue(csv, \"price\", [0, 200,300,600,float(\"inf\")], groupby=\"mean\")"
   ]
  },
  {
   "cell_type": "code",
   "execution_count": 28,
   "id": "digital-fourth",
   "metadata": {},
   "outputs": [
    {
     "data": {
      "text/plain": [
       "product_type\n",
       "electrique    413\n",
       "dtype: int64"
      ]
     },
     "execution_count": 28,
     "metadata": {},
     "output_type": "execute_result"
    }
   ],
   "source": [
    "find(csv, \"product_type\", [\"electric\", \"electrique\"], groupby=\"size\")"
   ]
  },
  {
   "cell_type": "code",
   "execution_count": 29,
   "id": "dramatic-fellow",
   "metadata": {},
   "outputs": [
    {
     "data": {
      "text/plain": [
       "product_type\n",
       "electric    413\n",
       "dtype: int64"
      ]
     },
     "execution_count": 29,
     "metadata": {},
     "output_type": "execute_result"
    }
   ],
   "source": [
    "changeValue(csv, [\"product_type\"], \"electrique\", \"electric\")\n",
    "find(csv, \"product_type\", [\"electric\", \"electrique\"], groupby=\"size\")"
   ]
  },
  {
   "cell_type": "code",
   "execution_count": 57,
   "id": "known-emperor",
   "metadata": {},
   "outputs": [
    {
     "data": {
      "text/html": [
       "<div>\n",
       "<style scoped>\n",
       "    .dataframe tbody tr th:only-of-type {\n",
       "        vertical-align: middle;\n",
       "    }\n",
       "\n",
       "    .dataframe tbody tr th {\n",
       "        vertical-align: top;\n",
       "    }\n",
       "\n",
       "    .dataframe thead th {\n",
       "        text-align: right;\n",
       "    }\n",
       "</style>\n",
       "<table border=\"1\" class=\"dataframe\">\n",
       "  <thead>\n",
       "    <tr style=\"text-align: right;\">\n",
       "      <th></th>\n",
       "      <th>capacity</th>\n",
       "      <th>failure_rate</th>\n",
       "      <th>id</th>\n",
       "      <th>margin</th>\n",
       "      <th>price</th>\n",
       "      <th>prod_cost</th>\n",
       "      <th>product_type</th>\n",
       "      <th>quality</th>\n",
       "      <th>warranty</th>\n",
       "      <th>market_share</th>\n",
       "      <th>attractiveness</th>\n",
       "    </tr>\n",
       "  </thead>\n",
       "  <tbody>\n",
       "    <tr>\n",
       "      <th>0</th>\n",
       "      <td>10.492623</td>\n",
       "      <td>0.042528</td>\n",
       "      <td>18377</td>\n",
       "      <td>633.766584</td>\n",
       "      <td>828.80</td>\n",
       "      <td>195.03551928211797</td>\n",
       "      <td>auto-portee</td>\n",
       "      <td>Low</td>\n",
       "      <td>3ans</td>\n",
       "      <td>0.006360</td>\n",
       "      <td>0.650648</td>\n",
       "    </tr>\n",
       "    <tr>\n",
       "      <th>1</th>\n",
       "      <td>20.273730</td>\n",
       "      <td>0.037896</td>\n",
       "      <td>19363</td>\n",
       "      <td>731.576817</td>\n",
       "      <td>882.89</td>\n",
       "      <td>151.31809934886763</td>\n",
       "      <td>auto-portee</td>\n",
       "      <td>Low</td>\n",
       "      <td>3 ans.</td>\n",
       "      <td>0.006840</td>\n",
       "      <td>0.699792</td>\n",
       "    </tr>\n",
       "    <tr>\n",
       "      <th>2</th>\n",
       "      <td>20.190457</td>\n",
       "      <td>0.039111</td>\n",
       "      <td>19641</td>\n",
       "      <td>741.218202</td>\n",
       "      <td>919.36</td>\n",
       "      <td>178.13731921134948</td>\n",
       "      <td>auto-portee</td>\n",
       "      <td>Low</td>\n",
       "      <td>3_ans</td>\n",
       "      <td>0.006179</td>\n",
       "      <td>0.632129</td>\n",
       "    </tr>\n",
       "    <tr>\n",
       "      <th>3</th>\n",
       "      <td>27.220131</td>\n",
       "      <td>0.041303</td>\n",
       "      <td>18728</td>\n",
       "      <td>654.255635</td>\n",
       "      <td>817.09</td>\n",
       "      <td>162.82946157588628</td>\n",
       "      <td>auto-portee</td>\n",
       "      <td>Low</td>\n",
       "      <td>3 anss</td>\n",
       "      <td>0.007925</td>\n",
       "      <td>0.810730</td>\n",
       "    </tr>\n",
       "    <tr>\n",
       "      <th>4</th>\n",
       "      <td>16.370911</td>\n",
       "      <td>0.037938</td>\n",
       "      <td>18722</td>\n",
       "      <td>703.094527</td>\n",
       "      <td>844.58</td>\n",
       "      <td>141.48693796090603</td>\n",
       "      <td>auto-portee</td>\n",
       "      <td>Medium</td>\n",
       "      <td>3ans.</td>\n",
       "      <td>0.007406</td>\n",
       "      <td>0.757614</td>\n",
       "    </tr>\n",
       "  </tbody>\n",
       "</table>\n",
       "</div>"
      ],
      "text/plain": [
       "    capacity  failure_rate     id      margin   price           prod_cost  \\\n",
       "0  10.492623      0.042528  18377  633.766584  828.80  195.03551928211797   \n",
       "1  20.273730      0.037896  19363  731.576817  882.89  151.31809934886763   \n",
       "2  20.190457      0.039111  19641  741.218202  919.36  178.13731921134948   \n",
       "3  27.220131      0.041303  18728  654.255635  817.09  162.82946157588628   \n",
       "4  16.370911      0.037938  18722  703.094527  844.58  141.48693796090603   \n",
       "\n",
       "  product_type quality warranty  market_share  attractiveness  \n",
       "0  auto-portee     Low     3ans      0.006360        0.650648  \n",
       "1  auto-portee     Low   3 ans.      0.006840        0.699792  \n",
       "2  auto-portee     Low    3_ans      0.006179        0.632129  \n",
       "3  auto-portee     Low   3 anss      0.007925        0.810730  \n",
       "4  auto-portee  Medium    3ans.      0.007406        0.757614  "
      ]
     },
     "execution_count": 57,
     "metadata": {},
     "output_type": "execute_result"
    }
   ],
   "source": [
    "changeValue(csv, [\"price\"], \"\", \"\", condition=(\"around\", 2))\n",
    "csv.head()"
   ]
  },
  {
   "cell_type": "code",
   "execution_count": null,
   "id": "familiar-operator",
   "metadata": {},
   "outputs": [],
   "source": []
  }
 ],
 "metadata": {
  "kernelspec": {
   "display_name": "Python 3",
   "language": "python",
   "name": "python3"
  },
  "language_info": {
   "codemirror_mode": {
    "name": "ipython",
    "version": 3
   },
   "file_extension": ".py",
   "mimetype": "text/x-python",
   "name": "python",
   "nbconvert_exporter": "python",
   "pygments_lexer": "ipython3",
   "version": "3.8.8"
  }
 },
 "nbformat": 4,
 "nbformat_minor": 5
}